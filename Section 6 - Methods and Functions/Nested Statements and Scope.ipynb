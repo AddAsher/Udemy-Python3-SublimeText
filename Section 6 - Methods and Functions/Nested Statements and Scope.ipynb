{
 "cells": [
  {
   "cell_type": "code",
   "execution_count": 1,
   "id": "0e032d89-6bbf-425e-a7a6-08ce88ee41e6",
   "metadata": {},
   "outputs": [],
   "source": [
    "x = 25\n",
    "\n",
    "def printer():\n",
    "    x= 50\n",
    "    return x"
   ]
  },
  {
   "cell_type": "code",
   "execution_count": 2,
   "id": "9d9752f5-5197-4ec4-a0bd-cfc6f3775296",
   "metadata": {},
   "outputs": [
    {
     "name": "stdout",
     "output_type": "stream",
     "text": [
      "25\n"
     ]
    }
   ],
   "source": [
    "print(x)"
   ]
  },
  {
   "cell_type": "code",
   "execution_count": 3,
   "id": "25a5ed3d-4d28-4047-8693-089be5337743",
   "metadata": {},
   "outputs": [
    {
     "name": "stdout",
     "output_type": "stream",
     "text": [
      "50\n"
     ]
    }
   ],
   "source": [
    "print(printer())"
   ]
  },
  {
   "cell_type": "code",
   "execution_count": 4,
   "id": "25851772-93d3-4ba4-a34a-0d5b1802a9e8",
   "metadata": {},
   "outputs": [],
   "source": [
    "#lambda num: num ** 2"
   ]
  },
  {
   "cell_type": "markdown",
   "id": "52becee0-163b-4860-82e2-1dce3c40f3a3",
   "metadata": {},
   "source": [
    "LEGB Rule: when looking for variables it goes\n",
    "L: Local\n",
    "E: Enclosing function locals\n",
    "G: Global\n",
    "B: Built in"
   ]
  },
  {
   "cell_type": "code",
   "execution_count": 5,
   "id": "014ec0d3-57f7-4ebd-b846-1407867d7217",
   "metadata": {},
   "outputs": [],
   "source": [
    "#Global\n",
    "name = 'THIS IS A GLOBAL STRING'\n",
    "\n",
    "def greet():\n",
    "    #Enclosing function\n",
    "    name = 'Sammy'\n",
    "\n",
    "    def hello():\n",
    "        #Local\n",
    "        name = 'IM A LOCAL'\n",
    "        print('Hello ' + name)\n",
    "\n",
    "    hello()\n",
    "\n"
   ]
  },
  {
   "cell_type": "code",
   "execution_count": 6,
   "id": "63b02330-d3de-4b85-8bad-a634b4fa5a50",
   "metadata": {},
   "outputs": [
    {
     "name": "stdout",
     "output_type": "stream",
     "text": [
      "Hello IM A LOCAL\n"
     ]
    }
   ],
   "source": [
    "greet()"
   ]
  },
  {
   "cell_type": "code",
   "execution_count": 7,
   "id": "c20bb23b-90d3-43ff-bbec-a0526dabc68d",
   "metadata": {},
   "outputs": [
    {
     "name": "stdout",
     "output_type": "stream",
     "text": [
      "Help on built-in function len in module builtins:\n",
      "\n",
      "len(obj, /)\n",
      "    Return the number of items in a container.\n",
      "\n"
     ]
    }
   ],
   "source": [
    "help(len)"
   ]
  },
  {
   "cell_type": "code",
   "execution_count": 10,
   "id": "64e00023-8a2b-4518-80a8-20a4958750b7",
   "metadata": {},
   "outputs": [],
   "source": [
    "x = 50\n",
    "\n",
    "def func(): \n",
    "    global x\n",
    "    print(f'X is {x}')\n",
    "    \n",
    "    #LOCAL REASSIGNMENT!\n",
    "    x = 'new value'\n",
    "    print(f'I JUST LOCALLY CHANGED GLOBAL X TO {x}')\n"
   ]
  },
  {
   "cell_type": "code",
   "execution_count": 11,
   "id": "c65017e7-91ab-4e76-a216-977cafca3a9b",
   "metadata": {},
   "outputs": [
    {
     "name": "stdout",
     "output_type": "stream",
     "text": [
      "50\n"
     ]
    }
   ],
   "source": [
    "print(x)"
   ]
  },
  {
   "cell_type": "code",
   "execution_count": 12,
   "id": "6ea88945-7bbf-45f2-a05f-9df4d1ca9943",
   "metadata": {},
   "outputs": [
    {
     "name": "stdout",
     "output_type": "stream",
     "text": [
      "X is 50\n",
      "I JUST LOCALLY CHANGED GLOBAL X TO new value\n"
     ]
    }
   ],
   "source": [
    "func()"
   ]
  },
  {
   "cell_type": "code",
   "execution_count": 13,
   "id": "19d462fd-d4a2-40b0-8165-1e3f63f3c06c",
   "metadata": {},
   "outputs": [
    {
     "name": "stdout",
     "output_type": "stream",
     "text": [
      "new value\n"
     ]
    }
   ],
   "source": [
    "print(x)"
   ]
  },
  {
   "cell_type": "code",
   "execution_count": null,
   "id": "43b05afd-5026-464b-9296-888458a10ec4",
   "metadata": {},
   "outputs": [],
   "source": []
  }
 ],
 "metadata": {
  "kernelspec": {
   "display_name": "Python [conda env:base] *",
   "language": "python",
   "name": "conda-base-py"
  },
  "language_info": {
   "codemirror_mode": {
    "name": "ipython",
    "version": 3
   },
   "file_extension": ".py",
   "mimetype": "text/x-python",
   "name": "python",
   "nbconvert_exporter": "python",
   "pygments_lexer": "ipython3",
   "version": "3.13.5"
  }
 },
 "nbformat": 4,
 "nbformat_minor": 5
}

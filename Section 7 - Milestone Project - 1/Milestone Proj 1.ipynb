{
 "cells": [
  {
   "cell_type": "code",
   "execution_count": 1,
   "id": "616a5467-33a3-4ad7-8b11-27498cd1244a",
   "metadata": {},
   "outputs": [],
   "source": [
    "from IPython.display import clear_output\n",
    "\n",
    "def display_board(board):\n",
    "    print(\"     |     |\")\n",
    "    print(f\"  {board[7]}  |  {board[8]}  |  {board[9]} \")\n",
    "    print(\"     |     |\")\n",
    "    print(\"----------------\")\n",
    "    print(\"     |     |\")\n",
    "    print(f\"  {board[4]}  |  {board[5]}  |  {board[6]} \")\n",
    "    \n",
    "    print(\"     |     |\")\n",
    "    print(\"----------------\")\n",
    "    print(\"     |     |\")\n",
    "    print(f\"  {board[1]}  |  {board[2]}  |  {board[3]} \")\n",
    "    print(\"     |     |\")\n",
    "    pass"
   ]
  },
  {
   "cell_type": "code",
   "execution_count": 2,
   "id": "abfe9aa3-ed3f-4c74-b16e-a569334efd68",
   "metadata": {},
   "outputs": [
    {
     "name": "stdout",
     "output_type": "stream",
     "text": [
      "     |     |\n",
      "  X  |  O  |  X \n",
      "     |     |\n",
      "----------------\n",
      "     |     |\n",
      "  O  |  X  |  O \n",
      "     |     |\n",
      "----------------\n",
      "     |     |\n",
      "  X  |  O  |  X \n",
      "     |     |\n"
     ]
    }
   ],
   "source": [
    "test_board = ['#','X','O','X','O','X','O','X','O','X']\n",
    "display_board(test_board)"
   ]
  },
  {
   "cell_type": "code",
   "execution_count": 3,
   "id": "aa5f61a1-dc6f-4604-ac75-8e44603ce34a",
   "metadata": {},
   "outputs": [],
   "source": [
    "def player_input():\n",
    "    marker = ''\n",
    "    \n",
    "    while not (marker == 'X' or marker == 'O'):\n",
    "        marker = input('Player 1: Do you want to be X or O? ').upper()\n",
    "\n",
    "    if marker == 'X':\n",
    "        return ('X', 'O')\n",
    "    else:\n",
    "        return ('O', 'X')"
   ]
  },
  {
   "cell_type": "code",
   "execution_count": 4,
   "id": "f2844e80-9a79-4acd-b5e3-e685af47ede0",
   "metadata": {},
   "outputs": [],
   "source": [
    "# x = player_input()"
   ]
  },
  {
   "cell_type": "code",
   "execution_count": 5,
   "id": "e3b0e300-8970-42c9-b0ef-ab245427c08a",
   "metadata": {},
   "outputs": [],
   "source": [
    "# print(x)"
   ]
  },
  {
   "cell_type": "code",
   "execution_count": 6,
   "id": "92414e08-687d-4676-ade4-b5fea8542aa5",
   "metadata": {},
   "outputs": [],
   "source": [
    "def place_marker(board, marker, position):\n",
    "    board[position] = marker;"
   ]
  },
  {
   "cell_type": "code",
   "execution_count": 7,
   "id": "cbd55460-4ae1-46bf-a9ad-8dd3981bda40",
   "metadata": {},
   "outputs": [
    {
     "name": "stdout",
     "output_type": "stream",
     "text": [
      "     |     |\n",
      "  X  |  $  |  X \n",
      "     |     |\n",
      "----------------\n",
      "     |     |\n",
      "  O  |  X  |  O \n",
      "     |     |\n",
      "----------------\n",
      "     |     |\n",
      "  X  |  O  |  X \n",
      "     |     |\n"
     ]
    }
   ],
   "source": [
    "\n",
    "place_marker(test_board,'$',8)\n",
    "display_board(test_board)"
   ]
  },
  {
   "cell_type": "code",
   "execution_count": 8,
   "id": "5b5a8bd1-7087-4321-91ce-54f03ff69674",
   "metadata": {},
   "outputs": [],
   "source": [
    "def win_check(board, mark):\n",
    "    winning_combos = [[1,2,3],[4,5,6],[7,8,9],\n",
    "                      [1,4,7],[2,5,8],[3,6,9],\n",
    "                      [1,5,9],[3,5,7]]\n",
    "\n",
    "    for combo in winning_combos:\n",
    "        if board[combo[0]] == board[combo[1]] == board[combo[2]] == mark:\n",
    "            return True\n",
    "\n",
    "    return False"
   ]
  },
  {
   "cell_type": "code",
   "execution_count": 9,
   "id": "0b01940d-56ee-4c84-b491-e1d3c6576c47",
   "metadata": {},
   "outputs": [
    {
     "data": {
      "text/plain": [
       "True"
      ]
     },
     "execution_count": 9,
     "metadata": {},
     "output_type": "execute_result"
    }
   ],
   "source": [
    "win_check(test_board,'X')"
   ]
  },
  {
   "cell_type": "code",
   "execution_count": 10,
   "id": "071b217f-6d25-4fb1-896c-4ec68c0de1f1",
   "metadata": {},
   "outputs": [],
   "source": [
    "import random\n",
    "\n",
    "def choose_first():\n",
    "    if random.randint(1,2) == 1:\n",
    "        return 'Player 1'\n",
    "    else:\n",
    "        return 'Player 2'\n",
    "    "
   ]
  },
  {
   "cell_type": "code",
   "execution_count": 11,
   "id": "9cf52795-9ec7-4f70-9745-64e2680d3339",
   "metadata": {},
   "outputs": [],
   "source": [
    "def space_check(board, position):\n",
    "    return board[position] == \" \""
   ]
  },
  {
   "cell_type": "code",
   "execution_count": 12,
   "id": "90e930d3-947f-4dc8-872e-7e9e4125aaf4",
   "metadata": {},
   "outputs": [
    {
     "data": {
      "text/plain": [
       "['#', 'X', 'O', 'X', 'O', 'X', 'O', 'X', '$', 'X']"
      ]
     },
     "execution_count": 12,
     "metadata": {},
     "output_type": "execute_result"
    }
   ],
   "source": [
    "test_board"
   ]
  },
  {
   "cell_type": "code",
   "execution_count": 13,
   "id": "baa27815-e68f-4870-a2bb-17bc58362415",
   "metadata": {},
   "outputs": [],
   "source": [
    "test_board[1] = ''"
   ]
  },
  {
   "cell_type": "code",
   "execution_count": 14,
   "id": "31f9fb74-c714-40cf-90f5-d5790ec0bf24",
   "metadata": {},
   "outputs": [
    {
     "data": {
      "text/plain": [
       "False"
      ]
     },
     "execution_count": 14,
     "metadata": {},
     "output_type": "execute_result"
    }
   ],
   "source": [
    "space_check(test_board,2)"
   ]
  },
  {
   "cell_type": "code",
   "execution_count": 15,
   "id": "c3c1b5a6-d489-4d21-ac58-b7633f21db82",
   "metadata": {},
   "outputs": [],
   "source": [
    "def full_board_check(board):\n",
    "    for x in range(1,10):\n",
    "        if board[x]== \" \":\n",
    "            return False\n",
    "    return True"
   ]
  },
  {
   "cell_type": "code",
   "execution_count": 16,
   "id": "ed68d3fc-9428-4de6-9ad1-0865c8275a9d",
   "metadata": {},
   "outputs": [],
   "source": [
    "def player_choice(board):\n",
    "    choice = 0\n",
    "    while choice not in range(1,10) or not space_check(board, choice):\n",
    "        choice = int(input(\"Enter a position (1-9)\"))\n",
    "\n",
    "    return choice"
   ]
  },
  {
   "cell_type": "code",
   "execution_count": 17,
   "id": "e95d73db-8d56-46fa-84d9-d9e1bdaf7cfc",
   "metadata": {},
   "outputs": [],
   "source": [
    "def replay():\n",
    "    return input('Do you want to play again? Enter Yes or No: ').lower()[0] =='y'\n",
    "    "
   ]
  },
  {
   "cell_type": "code",
   "execution_count": null,
   "id": "d59c6e7b-e1f5-4a32-9087-106362012c29",
   "metadata": {},
   "outputs": [
    {
     "name": "stdout",
     "output_type": "stream",
     "text": [
      "Welcome to Tic Tac Toe!\n"
     ]
    },
    {
     "name": "stdin",
     "output_type": "stream",
     "text": [
      "Player 1: Do you want to be X or O?  X\n"
     ]
    },
    {
     "name": "stdout",
     "output_type": "stream",
     "text": [
      "Player 1 will  go first\n"
     ]
    },
    {
     "name": "stdin",
     "output_type": "stream",
     "text": [
      "Are you ready to play? Enter Yes or No. y\n"
     ]
    },
    {
     "name": "stdout",
     "output_type": "stream",
     "text": [
      "     |     |\n",
      "     |     |    \n",
      "     |     |\n",
      "----------------\n",
      "     |     |\n",
      "     |     |    \n",
      "     |     |\n",
      "----------------\n",
      "     |     |\n",
      "     |     |    \n",
      "     |     |\n"
     ]
    },
    {
     "name": "stdin",
     "output_type": "stream",
     "text": [
      "Enter a position (1-9) 1\n"
     ]
    },
    {
     "name": "stdout",
     "output_type": "stream",
     "text": [
      "True\n",
      "     |     |\n",
      "     |     |    \n",
      "     |     |\n",
      "----------------\n",
      "     |     |\n",
      "     |     |    \n",
      "     |     |\n",
      "----------------\n",
      "     |     |\n",
      "  X  |     |    \n",
      "     |     |\n"
     ]
    },
    {
     "name": "stdin",
     "output_type": "stream",
     "text": [
      "Enter a position (1-9) 2\n"
     ]
    },
    {
     "name": "stdout",
     "output_type": "stream",
     "text": [
      "True\n",
      "     |     |\n",
      "     |     |    \n",
      "     |     |\n",
      "----------------\n",
      "     |     |\n",
      "     |     |    \n",
      "     |     |\n",
      "----------------\n",
      "     |     |\n",
      "  X  |  O  |    \n",
      "     |     |\n"
     ]
    },
    {
     "name": "stdin",
     "output_type": "stream",
     "text": [
      "Enter a position (1-9) 3\n"
     ]
    },
    {
     "name": "stdout",
     "output_type": "stream",
     "text": [
      "True\n",
      "     |     |\n",
      "     |     |    \n",
      "     |     |\n",
      "----------------\n",
      "     |     |\n",
      "     |     |    \n",
      "     |     |\n",
      "----------------\n",
      "     |     |\n",
      "  X  |  O  |  X \n",
      "     |     |\n"
     ]
    },
    {
     "name": "stdin",
     "output_type": "stream",
     "text": [
      "Enter a position (1-9) 3\n"
     ]
    },
    {
     "name": "stdout",
     "output_type": "stream",
     "text": [
      "True\n"
     ]
    },
    {
     "name": "stdin",
     "output_type": "stream",
     "text": [
      "Enter a position (1-9) 5\n"
     ]
    },
    {
     "name": "stdout",
     "output_type": "stream",
     "text": [
      "True\n",
      "     |     |\n",
      "     |     |    \n",
      "     |     |\n",
      "----------------\n",
      "     |     |\n",
      "     |  O  |    \n",
      "     |     |\n",
      "----------------\n",
      "     |     |\n",
      "  X  |  O  |  X \n",
      "     |     |\n"
     ]
    },
    {
     "name": "stdin",
     "output_type": "stream",
     "text": [
      "Enter a position (1-9) 9\n"
     ]
    },
    {
     "name": "stdout",
     "output_type": "stream",
     "text": [
      "True\n",
      "     |     |\n",
      "     |     |  X \n",
      "     |     |\n",
      "----------------\n",
      "     |     |\n",
      "     |  O  |    \n",
      "     |     |\n",
      "----------------\n",
      "     |     |\n",
      "  X  |  O  |  X \n",
      "     |     |\n"
     ]
    },
    {
     "name": "stdin",
     "output_type": "stream",
     "text": [
      "Enter a position (1-9) 8\n"
     ]
    },
    {
     "name": "stdout",
     "output_type": "stream",
     "text": [
      "True\n",
      "     |     |\n",
      "     |  O  |  X \n",
      "     |     |\n",
      "----------------\n",
      "     |     |\n",
      "     |  O  |    \n",
      "     |     |\n",
      "----------------\n",
      "     |     |\n",
      "  X  |  O  |  X \n",
      "     |     |\n",
      "Congratulations! You have won the game!\n"
     ]
    },
    {
     "name": "stdin",
     "output_type": "stream",
     "text": [
      "Do you want to play again? Enter Yes or No:  Y\n",
      "Player 1: Do you want to be X or O?  O\n"
     ]
    },
    {
     "name": "stdout",
     "output_type": "stream",
     "text": [
      "Player 2 will  go first\n"
     ]
    },
    {
     "name": "stdin",
     "output_type": "stream",
     "text": [
      "Are you ready to play? Enter Yes or No. Y\n"
     ]
    },
    {
     "name": "stdout",
     "output_type": "stream",
     "text": [
      "     |     |\n",
      "     |     |    \n",
      "     |     |\n",
      "----------------\n",
      "     |     |\n",
      "     |     |    \n",
      "     |     |\n",
      "----------------\n",
      "     |     |\n",
      "     |     |    \n",
      "     |     |\n"
     ]
    },
    {
     "name": "stdin",
     "output_type": "stream",
     "text": [
      "Enter a position (1-9) 1\n"
     ]
    },
    {
     "name": "stdout",
     "output_type": "stream",
     "text": [
      "True\n",
      "     |     |\n",
      "     |     |    \n",
      "     |     |\n",
      "----------------\n",
      "     |     |\n",
      "     |     |    \n",
      "     |     |\n",
      "----------------\n",
      "     |     |\n",
      "  X  |     |    \n",
      "     |     |\n"
     ]
    },
    {
     "name": "stdin",
     "output_type": "stream",
     "text": [
      "Enter a position (1-9) 5\n"
     ]
    },
    {
     "name": "stdout",
     "output_type": "stream",
     "text": [
      "True\n",
      "     |     |\n",
      "     |     |    \n",
      "     |     |\n",
      "----------------\n",
      "     |     |\n",
      "     |  O  |    \n",
      "     |     |\n",
      "----------------\n",
      "     |     |\n",
      "  X  |     |    \n",
      "     |     |\n"
     ]
    },
    {
     "name": "stdin",
     "output_type": "stream",
     "text": [
      "Enter a position (1-9) 6\n"
     ]
    },
    {
     "name": "stdout",
     "output_type": "stream",
     "text": [
      "True\n",
      "     |     |\n",
      "     |     |    \n",
      "     |     |\n",
      "----------------\n",
      "     |     |\n",
      "     |  O  |  X \n",
      "     |     |\n",
      "----------------\n",
      "     |     |\n",
      "  X  |     |    \n",
      "     |     |\n"
     ]
    },
    {
     "name": "stdin",
     "output_type": "stream",
     "text": [
      "Enter a position (1-9) 9\n"
     ]
    },
    {
     "name": "stdout",
     "output_type": "stream",
     "text": [
      "True\n",
      "     |     |\n",
      "     |     |  O \n",
      "     |     |\n",
      "----------------\n",
      "     |     |\n",
      "     |  O  |  X \n",
      "     |     |\n",
      "----------------\n",
      "     |     |\n",
      "  X  |     |    \n",
      "     |     |\n"
     ]
    },
    {
     "name": "stdin",
     "output_type": "stream",
     "text": [
      "Enter a position (1-9) 2\n"
     ]
    },
    {
     "name": "stdout",
     "output_type": "stream",
     "text": [
      "True\n",
      "     |     |\n",
      "     |     |  O \n",
      "     |     |\n",
      "----------------\n",
      "     |     |\n",
      "     |  O  |  X \n",
      "     |     |\n",
      "----------------\n",
      "     |     |\n",
      "  X  |  X  |    \n",
      "     |     |\n"
     ]
    },
    {
     "name": "stdin",
     "output_type": "stream",
     "text": [
      "Enter a position (1-9) 7\n"
     ]
    },
    {
     "name": "stdout",
     "output_type": "stream",
     "text": [
      "True\n",
      "     |     |\n",
      "  O  |     |  O \n",
      "     |     |\n",
      "----------------\n",
      "     |     |\n",
      "     |  O  |  X \n",
      "     |     |\n",
      "----------------\n",
      "     |     |\n",
      "  X  |  X  |    \n",
      "     |     |\n"
     ]
    },
    {
     "name": "stdin",
     "output_type": "stream",
     "text": [
      "Enter a position (1-9) 3\n"
     ]
    },
    {
     "name": "stdout",
     "output_type": "stream",
     "text": [
      "True\n",
      "     |     |\n",
      "  O  |     |  O \n",
      "     |     |\n",
      "----------------\n",
      "     |     |\n",
      "     |  O  |  X \n",
      "     |     |\n",
      "----------------\n",
      "     |     |\n",
      "  X  |  X  |  X \n",
      "     |     |\n",
      "Congratulations! You have won the game!\n"
     ]
    }
   ],
   "source": [
    "print('Welcome to Tic Tac Toe!')\n",
    "while True:\n",
    "    gBoard = [' ']*10\n",
    "    p1mark,p2mark = player_input()\n",
    "    turn = choose_first()\n",
    "    print(f\"{turn} will  go first\")\n",
    "\n",
    "    pReady = input(\"Are you ready to play? Enter Yes or No.\")\n",
    "    game_on = pReady.lower()[0] == 'y'\n",
    "\n",
    "    while game_on:\n",
    "        if turn == 'Player 1':\n",
    "            display_board(gBoard)\n",
    "            spot = player_choice(gBoard)\n",
    "            place_marker(gBoard,p1mark,spot)\n",
    "\n",
    "            if win_check(gBoard,p1mark):\n",
    "                display_board(gBoard)\n",
    "                print('Congratulations! You have won the game!')\n",
    "                game_on = False\n",
    "            else:\n",
    "                if(full_board_check(gBoard)):\n",
    "                    display_board(gBoard)\n",
    "                    print('This game is a draw!')\n",
    "                    break\n",
    "                else:\n",
    "                    turn = 'Player 2'\n",
    "        else:\n",
    "            display_board(gBoard)\n",
    "            spot = player_choice(gBoard)\n",
    "            place_marker(gBoard,p2mark,spot)\n",
    "\n",
    "            if win_check(gBoard,p2mark):\n",
    "                display_board(gBoard)\n",
    "                print('Congratulations! You have won the game!')\n",
    "                game_on = False\n",
    "            else:\n",
    "                if(full_board_check(gBoard)):\n",
    "                    display_board(gBoard)\n",
    "                    print('This game is a draw!')\n",
    "                    break\n",
    "                else:\n",
    "                    turn = 'Player 1'\n",
    "    if not replay():\n",
    "        break"
   ]
  },
  {
   "cell_type": "code",
   "execution_count": null,
   "id": "fc927761-1cfb-4b02-b380-1b2806a51403",
   "metadata": {},
   "outputs": [],
   "source": []
  }
 ],
 "metadata": {
  "kernelspec": {
   "display_name": "Python [conda env:base] *",
   "language": "python",
   "name": "conda-base-py"
  },
  "language_info": {
   "codemirror_mode": {
    "name": "ipython",
    "version": 3
   },
   "file_extension": ".py",
   "mimetype": "text/x-python",
   "name": "python",
   "nbconvert_exporter": "python",
   "pygments_lexer": "ipython3",
   "version": "3.13.5"
  }
 },
 "nbformat": 4,
 "nbformat_minor": 5
}
